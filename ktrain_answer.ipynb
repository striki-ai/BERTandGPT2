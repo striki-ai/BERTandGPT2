{
 "cells": [
  {
   "cell_type": "code",
   "execution_count": 1,
   "metadata": {},
   "outputs": [],
   "source": [
    "from ktrain import text\n",
    "import os\n",
    "from os import path\n",
    "import shutil"
   ]
  },
  {
   "cell_type": "code",
   "execution_count": 2,
   "metadata": {},
   "outputs": [],
   "source": [
    "INDEX_DIR = \"/tmp/index\"\n",
    "TXT_DIR = \"C:/Striki/BERT/txt\""
   ]
  },
  {
   "cell_type": "code",
   "execution_count": 3,
   "metadata": {},
   "outputs": [],
   "source": [
    "if path.exists(INDEX_DIR):\n",
    "    shutil.rmtree(INDEX_DIR)"
   ]
  },
  {
   "cell_type": "code",
   "execution_count": 4,
   "metadata": {},
   "outputs": [
    {
     "output_type": "execute_result",
     "data": {
      "text/plain": "FileIndex(FileStorage('/tmp/index'), 'MAIN')"
     },
     "metadata": {},
     "execution_count": 4
    }
   ],
   "source": [
    "text.SimpleQA.initialize_index(INDEX_DIR)"
   ]
  },
  {
   "cell_type": "code",
   "execution_count": 5,
   "metadata": {},
   "outputs": [],
   "source": [
    "file_count = sum((len(f) for _, _, f in os.walk(TXT_DIR)))"
   ]
  },
  {
   "cell_type": "code",
   "execution_count": 6,
   "metadata": {},
   "outputs": [
    {
     "output_type": "stream",
     "name": "stdout",
     "text": "4881 docs indexed\n"
    }
   ],
   "source": [
    "text.SimpleQA.index_from_folder(TXT_DIR, INDEX_DIR, commit_every=file_count)"
   ]
  },
  {
   "cell_type": "code",
   "execution_count": 7,
   "metadata": {},
   "outputs": [],
   "source": [
    "qa = text.SimpleQA(INDEX_DIR)"
   ]
  },
  {
   "cell_type": "code",
   "execution_count": 8,
   "metadata": {},
   "outputs": [],
   "source": [
    "QUESTION = \"what is netcetera ?\""
   ]
  },
  {
   "cell_type": "code",
   "execution_count": 9,
   "metadata": {},
   "outputs": [
    {
     "output_type": "display_data",
     "data": {
      "text/plain": "<IPython.core.display.HTML object>",
      "text/html": "\n    <div>\n        <style>\n            /* Turns off some styling */\n            progress {\n                /* gets rid of default border in Firefox and Opera. */\n                border: none;\n                /* Needs to be in here for Safari polyfill so background images work as expected. */\n                background-size: auto;\n            }\n            .progress-bar-interrupted, .progress-bar-interrupted::-webkit-progress-bar {\n                background: #F44336;\n            }\n        </style>\n      <progress value='0' class='' max='1' style='width:300px; height:20px; vertical-align: middle;'></progress>\n      \n    </div>\n    \n"
     },
     "metadata": {}
    }
   ],
   "source": [
    "answers = qa.ask(QUESTION)"
   ]
  },
  {
   "cell_type": "code",
   "execution_count": 10,
   "metadata": {},
   "outputs": [
    {
     "output_type": "display_data",
     "data": {
      "text/plain": "<IPython.core.display.HTML object>",
      "text/html": "<table border=\"1\" class=\"dataframe\">\n  <thead>\n    <tr style=\"text-align: right;\">\n      <th></th>\n      <th>Candidate Answer</th>\n      <th>Context</th>\n      <th>Confidence</th>\n      <th>Document Reference</th>\n    </tr>\n  </thead>\n  <tbody>\n    <tr>\n      <th>0</th>\n      <td>“ professional home</td>\n      <td><div>the term  <font color='red'>“ professional home</font>  ” is closely associated with netcetera.</div></td>\n      <td>0.834754</td>\n      <td>www.netcetera.com___home___stories___news___20200415-Dominique-interview.html.04549.txt</td>\n    </tr>\n    <tr>\n      <th>1</th>\n      <td>: precision, openness, honesty, always with an engineering spirit and challenging ourselves – swiss quality software</td>\n      <td><div>the motto of this years ’ event “ costumer first ” reflects what netcetera stands for  <font color='red'>: precision, openness, honesty, always with an engineering spirit and challenging ourselves – swiss quality software</font> .</div></td>\n      <td>0.159169</td>\n      <td>www.netcetera.com___home___stories___expertise___20180928-innov-summit.html.02296.txt</td>\n    </tr>\n    <tr>\n      <th>2</th>\n      <td>this privacy notice</td>\n      <td><div> <font color='red'>this privacy notice</font>  explains what information netcetera.</div></td>\n      <td>0.004353</td>\n      <td>www.netcetera.com___home___privacy-policy.html.00782.txt</td>\n    </tr>\n    <tr>\n      <th>3</th>\n      <td>the customer facing team</td>\n      <td><div> <font color='red'>the customer facing team</font>  of netcetera has grown significantly in the past two years, are you stopping with the growth plans and what are the next steps there ?</div></td>\n      <td>0.001322</td>\n      <td>www.netcetera.com___home___stories___news___20200505-insights-sales-team.html.04624.txt</td>\n    </tr>\n    <tr>\n      <th>4</th>\n      <td>customisedservices</td>\n      <td><div> <font color='red'>customisedservices</font>  dependingon what you need</div></td>\n      <td>0.000264</td>\n      <td>www.netcetera.com___home___services___skills___Infosec.html.01168.txt</td>\n    </tr>\n    <tr>\n      <th>5</th>\n      <td>what mobile banking</td>\n      <td><div>this is  <font color='red'>what mobile banking</font>  can do :</div></td>\n      <td>0.000085</td>\n      <td>www.netcetera.com___en___product-detail___products___Mobile-Banking.html.00409.txt</td>\n    </tr>\n    <tr>\n      <th>6</th>\n      <td>is investing in this technology</td>\n      <td><div>among other things, we wanted to know how much netcetera  <font color='red'>is investing in this technology</font>  and whether they are already making money from it.</div></td>\n      <td>0.000053</td>\n      <td>www.netcetera.com___home___stories___expertise___2018100-inside-channels-interview.html.02314.txt</td>\n    </tr>\n  </tbody>\n</table>"
     },
     "metadata": {}
    }
   ],
   "source": [
    "qa.display_answers(answers[:10])"
   ]
  },
  {
   "cell_type": "code",
   "execution_count": null,
   "metadata": {},
   "outputs": [],
   "source": []
  }
 ],
 "metadata": {
  "language_info": {
   "codemirror_mode": {
    "name": "ipython",
    "version": 3
   },
   "file_extension": ".py",
   "mimetype": "text/x-python",
   "name": "python",
   "nbconvert_exporter": "python",
   "pygments_lexer": "ipython3",
   "version": "3.7.6-final"
  },
  "orig_nbformat": 2,
  "kernelspec": {
   "name": "python37664bitbertktrainvenv377af67178bc4264b61277587c62401f",
   "display_name": "Python 3.7.6 64-bit ('bert-ktrain': venv)"
  }
 },
 "nbformat": 4,
 "nbformat_minor": 2
}