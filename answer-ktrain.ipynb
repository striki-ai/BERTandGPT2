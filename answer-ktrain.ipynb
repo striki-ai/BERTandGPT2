{
 "cells": [
  {
   "cell_type": "code",
   "execution_count": 93,
   "metadata": {},
   "outputs": [],
   "source": [
    "from ktrain import text\n",
    "import os\n",
    "from os import path\n",
    "import shutil"
   ]
  },
  {
   "cell_type": "code",
   "execution_count": 94,
   "metadata": {},
   "outputs": [],
   "source": [
    "INDEX_DIR = \"/tmp/index\"\n",
    "TXT_DIR = \"C:/Striki/BERT/txt\""
   ]
  },
  {
   "cell_type": "code",
   "execution_count": 95,
   "metadata": {},
   "outputs": [],
   "source": [
    "if path.exists(INDEX_DIR):\n",
    "    shutil.rmtree(INDEX_DIR)"
   ]
  },
  {
   "cell_type": "code",
   "execution_count": 96,
   "metadata": {},
   "outputs": [
    {
     "output_type": "execute_result",
     "data": {
      "text/plain": "FileIndex(FileStorage('/tmp/index'), 'MAIN')"
     },
     "metadata": {},
     "execution_count": 96
    }
   ],
   "source": [
    "text.SimpleQA.initialize_index(INDEX_DIR)"
   ]
  },
  {
   "cell_type": "code",
   "execution_count": 97,
   "metadata": {},
   "outputs": [],
   "source": [
    "file_count = sum((len(f) for _, _, f in os.walk(TXT_DIR)))"
   ]
  },
  {
   "cell_type": "code",
   "execution_count": 98,
   "metadata": {},
   "outputs": [
    {
     "output_type": "stream",
     "name": "stdout",
     "text": "1698 docs indexed\n"
    }
   ],
   "source": [
    "text.SimpleQA.index_from_folder(TXT_DIR, INDEX_DIR, commit_every=file_count)"
   ]
  },
  {
   "cell_type": "code",
   "execution_count": 99,
   "metadata": {},
   "outputs": [],
   "source": [
    "qa = text.SimpleQA(INDEX_DIR)"
   ]
  },
  {
   "cell_type": "code",
   "execution_count": 100,
   "metadata": {},
   "outputs": [],
   "source": [
    "QUESTION = \"what is wemlin mobile ?\""
   ]
  },
  {
   "cell_type": "code",
   "execution_count": 101,
   "metadata": {},
   "outputs": [
    {
     "output_type": "display_data",
     "data": {
      "text/plain": "<IPython.core.display.HTML object>",
      "text/html": "\n    <div>\n        <style>\n            /* Turns off some styling */\n            progress {\n                /* gets rid of default border in Firefox and Opera. */\n                border: none;\n                /* Needs to be in here for Safari polyfill so background images work as expected. */\n                background-size: auto;\n            }\n            .progress-bar-interrupted, .progress-bar-interrupted::-webkit-progress-bar {\n                background: #F44336;\n            }\n        </style>\n      <progress value='0' class='' max='1' style='width:300px; height:20px; vertical-align: middle;'></progress>\n      \n    </div>\n    \n"
     },
     "metadata": {}
    }
   ],
   "source": [
    "answers = qa.ask(QUESTION)"
   ]
  },
  {
   "cell_type": "code",
   "execution_count": 102,
   "metadata": {},
   "outputs": [
    {
     "output_type": "display_data",
     "data": {
      "text/plain": "<IPython.core.display.HTML object>",
      "text/html": "<table border=\"1\" class=\"dataframe\">\n  <thead>\n    <tr style=\"text-align: right;\">\n      <th></th>\n      <th>Candidate Answer</th>\n      <th>Context</th>\n      <th>Confidence</th>\n      <th>Document Reference</th>\n    </tr>\n  </thead>\n  <tbody>\n    <tr>\n      <th>0</th>\n      <td>what mobile banking</td>\n      <td><div>this is  <font color='red'>what mobile banking</font>  can do :</div></td>\n      <td>0.439986</td>\n      <td>01482.txt</td>\n    </tr>\n    <tr>\n      <th>1</th>\n      <td>mobile banking app</td>\n      <td><div>« we have set yet another milestone with the finnova  <font color='red'>mobile banking app</font> .</div></td>\n      <td>0.290242</td>\n      <td>00091.txt</td>\n    </tr>\n    <tr>\n      <th>2</th>\n      <td>with the very first swiss app wemlin for the first iphone</td>\n      <td><div>as pioneers we entered the mobile development market in 2008  <font color='red'>with the very first swiss app wemlin for the first iphone</font> .</div></td>\n      <td>0.113783</td>\n      <td>01484.txt</td>\n    </tr>\n    <tr>\n      <th>3</th>\n      <td>probably one of the most popular apps in the swiss app store</td>\n      <td><div>wemlin is  <font color='red'>probably one of the most popular apps in the swiss app store</font> .</div></td>\n      <td>0.066032</td>\n      <td>00191.txt</td>\n    </tr>\n    <tr>\n      <th>4</th>\n      <td>mobile phones will become electronic purses</td>\n      <td><div>hagger commented on the significance of mobile payment : \" in the long term,  <font color='red'>mobile phones will become electronic purses</font>  that provide all means of payment except cash.</div></td>\n      <td>0.051262</td>\n      <td>00078.txt</td>\n    </tr>\n  </tbody>\n</table>"
     },
     "metadata": {}
    }
   ],
   "source": [
    "qa.display_answers(answers[:5])"
   ]
  },
  {
   "cell_type": "code",
   "execution_count": null,
   "metadata": {},
   "outputs": [],
   "source": []
  }
 ],
 "metadata": {
  "language_info": {
   "codemirror_mode": {
    "name": "ipython",
    "version": 3
   },
   "file_extension": ".py",
   "mimetype": "text/x-python",
   "name": "python",
   "nbconvert_exporter": "python",
   "pygments_lexer": "ipython3",
   "version": "3.7.6-final"
  },
  "orig_nbformat": 2,
  "kernelspec": {
   "name": "python37664bitbertktrainvenv377af67178bc4264b61277587c62401f",
   "display_name": "Python 3.7.6 64-bit ('bert-ktrain': venv)"
  }
 },
 "nbformat": 4,
 "nbformat_minor": 2
}